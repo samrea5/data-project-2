{
 "cells": [
  {
   "cell_type": "code",
   "execution_count": 1,
   "id": "8a8882b9-c0ac-4b16-849b-bb7de311818f",
   "metadata": {},
   "outputs": [
    {
     "name": "stdout",
     "output_type": "stream",
     "text": [
      "Requirement already satisfied: mysql-connector-python in c:\\miniconda\\envs\\py38_default\\lib\\site-packages (8.1.0)\n",
      "Requirement already satisfied: protobuf<=4.21.12,>=4.21.1 in c:\\miniconda\\envs\\py38_default\\lib\\site-packages (from mysql-connector-python) (4.21.12)\n"
     ]
    },
    {
     "name": "stderr",
     "output_type": "stream",
     "text": [
      "C:\\Users\\DS2002\\AppData\\Local\\Temp\\2\\ipykernel_1812\\3267081569.py:31: FutureWarning: The frame.append method is deprecated and will be removed from pandas in a future version. Use pandas.concat instead.\n",
      "  api_df = api_df.append({\n"
     ]
    },
    {
     "name": "stdout",
     "output_type": "stream",
     "text": [
      "API call 1 successful.\n",
      "Waiting for 60 seconds before next API call...\n"
     ]
    },
    {
     "name": "stderr",
     "output_type": "stream",
     "text": [
      "C:\\Users\\DS2002\\AppData\\Local\\Temp\\2\\ipykernel_1812\\3267081569.py:31: FutureWarning: The frame.append method is deprecated and will be removed from pandas in a future version. Use pandas.concat instead.\n",
      "  api_df = api_df.append({\n"
     ]
    },
    {
     "name": "stdout",
     "output_type": "stream",
     "text": [
      "API call 2 successful.\n"
     ]
    },
    {
     "name": "stderr",
     "output_type": "stream",
     "text": [
      "C:\\Users\\DS2002\\AppData\\Local\\Temp\\2\\ipykernel_1812\\3267081569.py:31: FutureWarning: The frame.append method is deprecated and will be removed from pandas in a future version. Use pandas.concat instead.\n",
      "  api_df = api_df.append({\n"
     ]
    },
    {
     "name": "stdout",
     "output_type": "stream",
     "text": [
      "API call 3 successful.\n",
      "Waiting for 60 seconds before next API call...\n"
     ]
    },
    {
     "name": "stderr",
     "output_type": "stream",
     "text": [
      "C:\\Users\\DS2002\\AppData\\Local\\Temp\\2\\ipykernel_1812\\3267081569.py:31: FutureWarning: The frame.append method is deprecated and will be removed from pandas in a future version. Use pandas.concat instead.\n",
      "  api_df = api_df.append({\n"
     ]
    },
    {
     "name": "stdout",
     "output_type": "stream",
     "text": [
      "API call 4 successful.\n",
      "Waiting for 60 seconds before next API call...\n"
     ]
    },
    {
     "name": "stderr",
     "output_type": "stream",
     "text": [
      "C:\\Users\\DS2002\\AppData\\Local\\Temp\\2\\ipykernel_1812\\3267081569.py:31: FutureWarning: The frame.append method is deprecated and will be removed from pandas in a future version. Use pandas.concat instead.\n",
      "  api_df = api_df.append({\n"
     ]
    },
    {
     "name": "stdout",
     "output_type": "stream",
     "text": [
      "API call 5 successful.\n",
      "Waiting for 60 seconds before next API call...\n"
     ]
    },
    {
     "ename": "KeyboardInterrupt",
     "evalue": "",
     "output_type": "error",
     "traceback": [
      "\u001b[1;31m---------------------------------------------------------------------------\u001b[0m",
      "\u001b[1;31mKeyboardInterrupt\u001b[0m                         Traceback (most recent call last)",
      "Cell \u001b[1;32mIn[1], line 43\u001b[0m\n\u001b[0;32m     41\u001b[0m     \u001b[38;5;28;01mif\u001b[39;00m _ \u001b[38;5;241m!=\u001b[39m \u001b[38;5;241m1\u001b[39m:  \u001b[38;5;66;03m# Don't wait after the last iteration\u001b[39;00m\n\u001b[0;32m     42\u001b[0m         \u001b[38;5;28mprint\u001b[39m(\u001b[38;5;124m\"\u001b[39m\u001b[38;5;124mWaiting for 60 seconds before next API call...\u001b[39m\u001b[38;5;124m\"\u001b[39m)\n\u001b[1;32m---> 43\u001b[0m         \u001b[43mtime\u001b[49m\u001b[38;5;241;43m.\u001b[39;49m\u001b[43msleep\u001b[49m\u001b[43m(\u001b[49m\u001b[38;5;241;43m60\u001b[39;49m\u001b[43m)\u001b[49m  \u001b[38;5;66;03m# Wait for 60 seconds before the next API call\u001b[39;00m\n\u001b[0;32m     45\u001b[0m \u001b[38;5;66;03m# Connect to MySQL\u001b[39;00m\n\u001b[0;32m     46\u001b[0m host_ip \u001b[38;5;241m=\u001b[39m \u001b[38;5;124m\"\u001b[39m\u001b[38;5;124m127.0.0.1\u001b[39m\u001b[38;5;124m\"\u001b[39m\n",
      "\u001b[1;31mKeyboardInterrupt\u001b[0m: "
     ]
    }
   ],
   "source": [
    "!pip install mysql-connector-python\n",
    "import os\n",
    "import json\n",
    "import pprint\n",
    "import requests\n",
    "import requests.exceptions\n",
    "import pandas as pd\n",
    "import asyncio\n",
    "import time\n",
    "import mysql.connector\n",
    "\n",
    "api_url = \"https://4feaquhyai.execute-api.us-east-1.amazonaws.com/api/pi\"\n",
    "\n",
    "# Creating an empty DataFrame to hold the API data\n",
    "columns = [\"factor\", \"pi\", \"time\"]\n",
    "api_df = pd.DataFrame(columns=columns)\n",
    "\n",
    "for _ in range(60):      # Run the loop for 60 minutes (60 * 60 seconds)\n",
    "    response = requests.get(api_url)\n",
    "    \n",
    "    if response.status_code == 200:\n",
    "        api_data = response.json()\n",
    "        \n",
    "        # Extracting data from the API response\n",
    "        factor = api_data.get('factor', None)\n",
    "        pi = api_data.get('pi', None)\n",
    "        time_val = api_data.get('time', None)\n",
    "        \n",
    "        # Append the new data to the DataFrame\n",
    "        api_df = api_df.append({\n",
    "            \"factor\": factor,\n",
    "            \"pi\": pi,\n",
    "            \"time\": time_val\n",
    "        }, ignore_index=True)\n",
    "        \n",
    "        print(f\"API call {_ + 1} successful.\")\n",
    "    else:\n",
    "        print(f\"Failed API call {_ + 1}. Status code:\", response.status_code)\n",
    "    \n",
    "    if _ != 59:  # Don't wait after the last iteration\n",
    "        print(\"Waiting for 60 seconds before next API call...\")\n",
    "        time.sleep(60)  # Wait for 60 seconds before the next API call\n",
    "\n",
    "# Connect to MySQL\n",
    "host_ip = \"127.0.0.1\"\n",
    "user_id = \"root\"\n",
    "pwd = \"Uva!1819\"\n",
    "dst_dbname = \"project2_db\"\n",
    "mydb = mysql.connector.connect(\n",
    "    host=host_ip,\n",
    "    user=user_id,\n",
    "    passwd=pwd,\n",
    "    database=dst_dbname)\n",
    "table_name = 'final_data'\n",
    "# Insert data into the 'final_data' table\n",
    "mycursor = mydb.cursor()\n",
    "for index, row in api_df.iterrows():\n",
    "    sql = f\"INSERT INTO {table_name} (factor, pi, time) VALUES (%s, %s, %s)\"\n",
    "    val = (row['factor'], row['pi'], row['time'])\n",
    "    mycursor.execute(sql, val)\n",
    "    mydb.commit()\n"
   ]
  },
  {
   "cell_type": "code",
   "execution_count": null,
   "id": "3d850960-8e9b-4189-894a-088fc365eca3",
   "metadata": {},
   "outputs": [],
   "source": []
  },
  {
   "cell_type": "code",
   "execution_count": null,
   "id": "a89508c7-7b07-406c-a165-fb07dfd3881f",
   "metadata": {},
   "outputs": [],
   "source": []
  }
 ],
 "metadata": {
  "kernelspec": {
   "display_name": "Python 3 (ipykernel)",
   "language": "python",
   "name": "python3"
  },
  "language_info": {
   "codemirror_mode": {
    "name": "ipython",
    "version": 3
   },
   "file_extension": ".py",
   "mimetype": "text/x-python",
   "name": "python",
   "nbconvert_exporter": "python",
   "pygments_lexer": "ipython3",
   "version": "3.8.16"
  }
 },
 "nbformat": 4,
 "nbformat_minor": 5
}
